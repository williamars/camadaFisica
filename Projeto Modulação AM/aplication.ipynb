{
 "cells": [
  {
   "cell_type": "markdown",
   "metadata": {},
   "source": [
    "# Projeto Modulação AM\n",
    "*Camada Física da Computação 2020/2*\n",
    "\n",
    "William Silva | williamars@insper.edu.br"
   ]
  },
  {
   "cell_type": "markdown",
   "metadata": {
    "slideshow": {
     "slide_type": "slide"
    }
   },
   "source": [
    "*****Importando as bibliotecas necessárias*****"
   ]
  },
  {
   "cell_type": "code",
   "execution_count": 71,
   "metadata": {},
   "outputs": [],
   "source": [
    "%matplotlib inline\n",
    "import matplotlib.pyplot as plt\n",
    "import numpy as np\n",
    "from scipy import signal\n",
    "from scipy.fftpack import fft, fftshift\n",
    "from suaBibSignal import signalMeu\n",
    "import sounddevice as sd\n",
    "import soundfile   as sf"
   ]
  },
  {
   "cell_type": "markdown",
   "metadata": {},
   "source": [
    "*****Função Low Pass*****"
   ]
  },
  {
   "cell_type": "code",
   "execution_count": 72,
   "metadata": {},
   "outputs": [],
   "source": [
    "def LPF(signal, cutoff_hz, fs):\n",
    "    from scipy import signal as sg\n",
    "    # https://scipy.github.io/old-wiki/pages/Cookbook/FIRFilter.html\n",
    "    nyq_rate = fs/2\n",
    "    width = 5.0/nyq_rate\n",
    "    ripple_db = 120.0 #dB\n",
    "    N , beta = sg.kaiserord(ripple_db, width)\n",
    "    taps = sg.firwin(N, cutoff_hz/nyq_rate, window=('kaiser', beta))\n",
    "    return( sg.lfilter(taps, 1.0, signal))"
   ]
  },
  {
   "cell_type": "markdown",
   "metadata": {},
   "source": [
    "*****Propriedades dos sinais*****"
   ]
  },
  {
   "cell_type": "code",
   "execution_count": 98,
   "metadata": {},
   "outputs": [],
   "source": [
    "fs  = 44100\n",
    "A   = 1\n",
    "T   = 2\n",
    "t   = np.linspace(-T/2,T/2,T*fs)\n",
    "sd.default.samplerate = fs\n",
    "sd.default.channels = 1"
   ]
  },
  {
   "cell_type": "markdown",
   "metadata": {},
   "source": [
    "Inicializando a biblioteca para utilizar as funções"
   ]
  },
  {
   "cell_type": "code",
   "execution_count": 74,
   "metadata": {},
   "outputs": [],
   "source": [
    "mySignal = signalMeu()"
   ]
  },
  {
   "cell_type": "markdown",
   "metadata": {
    "scrolled": false
   },
   "source": [
    "### 1. Leitura do arquivo .wav"
   ]
  },
  {
   "cell_type": "code",
   "execution_count": 75,
   "metadata": {},
   "outputs": [],
   "source": [
    "audio, samplerate = sf.read('camFis.wav')\n",
    "yAudio = audio[:,0]\n",
    "sd.play(audio)\n",
    "sd.wait()"
   ]
  },
  {
   "cell_type": "markdown",
   "metadata": {},
   "source": [
    "### 2. Normalizando o sinal"
   ]
  },
  {
   "cell_type": "code",
   "execution_count": 76,
   "metadata": {},
   "outputs": [],
   "source": [
    "maior = max(yAudio)\n",
    "menor = min(yAudio)\n",
    "\n",
    "choose = 0\n",
    "if maior > np.abs(menor):\n",
    "    choose = np.abs(maior)\n",
    "else:\n",
    "    choose = np.abs(menor)\n",
    "\n",
    "yNormalizado = yAudio/choose"
   ]
  },
  {
   "cell_type": "markdown",
   "metadata": {},
   "source": [
    "### 3. Reprodução do áudio normalizado"
   ]
  },
  {
   "cell_type": "code",
   "execution_count": 77,
   "metadata": {},
   "outputs": [],
   "source": [
    "sd.play(yNormalizado)\n",
    "sd.wait()"
   ]
  },
  {
   "cell_type": "markdown",
   "metadata": {},
   "source": [
    "### 4. Filtrando as altas frequências, acima de 4000 Hz"
   ]
  },
  {
   "cell_type": "code",
   "execution_count": 78,
   "metadata": {},
   "outputs": [],
   "source": [
    "yFiltrado = LPF(yNormalizado, 4000, fs)"
   ]
  },
  {
   "cell_type": "markdown",
   "metadata": {},
   "source": [
    "### 5. Tocando o novo áudio"
   ]
  },
  {
   "cell_type": "code",
   "execution_count": 79,
   "metadata": {},
   "outputs": [],
   "source": [
    "sd.play(yFiltrado)\n",
    "sd.wait()"
   ]
  },
  {
   "cell_type": "markdown",
   "metadata": {},
   "source": [
    "### 6. Modulando o sinal"
   ]
  },
  {
   "cell_type": "code",
   "execution_count": 111,
   "metadata": {},
   "outputs": [
    {
     "name": "stdout",
     "output_type": "stream",
     "text": [
      "(88436,) and (88200,)\n"
     ]
    }
   ],
   "source": [
    "# Primeiro fazendo a portadora\n",
    "frequency = 14000\n",
    "x, port = mySignal.generateSin(frequency, A, T, fs)\n",
    "# plt.plot(port)\n",
    "\n",
    "# Xfil, Yfil = mySignal.calcFFT(yFiltrado, fs)\n",
    "# np.abs(Yfil).shape\n",
    "print(\"{} and {}\".format(yFiltrado.shape, port.shape))\n",
    "# port.shape\n",
    "\n",
    "# yModulado = yFiltrado * port"
   ]
  },
  {
   "cell_type": "markdown",
   "metadata": {},
   "source": [
    "### 7. Executando o sinal modulado"
   ]
  },
  {
   "cell_type": "code",
   "execution_count": null,
   "metadata": {},
   "outputs": [],
   "source": [
    "sd.play(yModulado)\n",
    "sd.wait()"
   ]
  },
  {
   "cell_type": "markdown",
   "metadata": {},
   "source": [
    "### 8. Gráficos"
   ]
  },
  {
   "cell_type": "markdown",
   "metadata": {},
   "source": [
    "- ***Sinal de Áudio Original***"
   ]
  },
  {
   "cell_type": "code",
   "execution_count": 40,
   "metadata": {},
   "outputs": [],
   "source": [
    "# plt.title(\"Gráfico temporal do sinal original\")\n",
    "# plt.plot(yAudio)"
   ]
  },
  {
   "cell_type": "code",
   "execution_count": null,
   "metadata": {},
   "outputs": [],
   "source": [
    "# X, Y = mySignal.calcFFT(yAudio, fs)\n",
    "# plt.title(\"Fourier do áudio original\")\n",
    "# plt.plot(X, np.abs(Y))\n",
    "# plt.xlim(0, 5000)"
   ]
  },
  {
   "cell_type": "markdown",
   "metadata": {},
   "source": [
    "- ***Sinal de Áudio Normalizado***"
   ]
  },
  {
   "cell_type": "code",
   "execution_count": 25,
   "metadata": {},
   "outputs": [],
   "source": [
    "# plt.title(\"Gráfico temporal do sinal normalizado\")\n",
    "# plt.plot(yNormalizado, 'purple')"
   ]
  },
  {
   "cell_type": "code",
   "execution_count": 27,
   "metadata": {},
   "outputs": [],
   "source": [
    "# Xnorm, Ynorm = mySignal.calcFFT(yNormalizado, fs)\n",
    "# plt.title(\"Fourier do sinal normalizado\")\n",
    "# plt.plot(Xnorm, np.abs(Ynorm))\n",
    "# plt.xlim(0, 5000)"
   ]
  },
  {
   "cell_type": "markdown",
   "metadata": {},
   "source": [
    "- ***Sinal de Áudio Filtrado***"
   ]
  },
  {
   "cell_type": "code",
   "execution_count": 105,
   "metadata": {},
   "outputs": [],
   "source": [
    "# plt.title(\"Gráfico temporal do sinal filtrado\")\n",
    "# plt.plot(yFiltrado, 'purple')"
   ]
  },
  {
   "cell_type": "code",
   "execution_count": 110,
   "metadata": {},
   "outputs": [],
   "source": [
    "# plt.title(\"Fourier do sinal filtrado\")\n",
    "# Xfil, Yfil = mySignal.calcFFT(yFiltrado, fs)\n",
    "# plt.plot(Xfil, np.abs(Yfil))\n",
    "# plt.xlim(0, 5000)"
   ]
  },
  {
   "cell_type": "markdown",
   "metadata": {},
   "source": [
    "- ***Sinal de Áudio Modulado***"
   ]
  },
  {
   "cell_type": "code",
   "execution_count": null,
   "metadata": {},
   "outputs": [],
   "source": [
    "# plt.title(\"Gráfico temporal do sinal modulado\")\n",
    "# plt.plot(yModulado, 'purple')"
   ]
  },
  {
   "cell_type": "code",
   "execution_count": null,
   "metadata": {},
   "outputs": [],
   "source": [
    "# Xmod, Ymod = mySignal.calcFFT(yModulado, fs)\n",
    "# plt.title(\"Fourier do sinal modulado\")\n",
    "# plt.plot(Xmod, np.abs(Ymod))\n",
    "# plt.xlim(0, 5000)"
   ]
  },
  {
   "cell_type": "markdown",
   "metadata": {},
   "source": [
    "### 9. Demodulação do sinal"
   ]
  },
  {
   "cell_type": "code",
   "execution_count": null,
   "metadata": {},
   "outputs": [],
   "source": []
  },
  {
   "cell_type": "markdown",
   "metadata": {},
   "source": [
    "### 10. Executando o sinal demodulado"
   ]
  },
  {
   "cell_type": "code",
   "execution_count": null,
   "metadata": {},
   "outputs": [],
   "source": [
    "# sd.play(yDemodulado)\n",
    "# sd.wait()"
   ]
  },
  {
   "cell_type": "markdown",
   "metadata": {},
   "source": [
    "### 11. Gráficos do sinal demodulado"
   ]
  },
  {
   "cell_type": "code",
   "execution_count": null,
   "metadata": {},
   "outputs": [],
   "source": [
    "# plt.title(\"Gráfico temporal do sinal demodulado\")\n",
    "# plt.plot(yDemodulado, 'purple')"
   ]
  },
  {
   "cell_type": "code",
   "execution_count": null,
   "metadata": {},
   "outputs": [],
   "source": [
    "# Xdemod, Ydemod = mySignal.calcFFT(yDemodulado, fs)\n",
    "# plt.title(\"Fourier do Demodulado\")\n",
    "# plt.plot(Xdemod, np.abs(Ydemod))\n",
    "# plt.xlim(0, 5000)"
   ]
  }
 ],
 "metadata": {
  "kernelspec": {
   "display_name": "Python 3",
   "language": "python",
   "name": "python3"
  },
  "language_info": {
   "codemirror_mode": {
    "name": "ipython",
    "version": 3
   },
   "file_extension": ".py",
   "mimetype": "text/x-python",
   "name": "python",
   "nbconvert_exporter": "python",
   "pygments_lexer": "ipython3",
   "version": "3.7.3"
  }
 },
 "nbformat": 4,
 "nbformat_minor": 2
}
